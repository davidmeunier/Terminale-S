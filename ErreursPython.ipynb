{
 "cells": [
  {
   "cell_type": "markdown",
   "metadata": {},
   "source": [
    "# Erreurs en Python \n",
    "Voici quelques erreurs que l'on peut faire en débutant Python... Certaines sont difficiles à trouver. \n",
    "\n",
    "\n",
    "## Erreur numéro 1\n",
    "\n",
    "1. Faire fonctionner le programme pour voir l'erreur annoncée par Python\n",
    "2. Corriger l'erreur"
   ]
  },
  {
   "cell_type": "code",
   "execution_count": null,
   "metadata": {},
   "outputs": [],
   "source": [
    "âge = eval(imput(\"entrer votre âge :\"))\n",
    "print(\"Vous avez \",âge, \"ans.\")"
   ]
  },
  {
   "cell_type": "markdown",
   "metadata": {},
   "source": [
    "## Erreur numéro 2\n",
    "\n",
    "1. Faire fonctionner le programme pour voir l'erreur annoncée par Python\n",
    "2. Corriger l'erreur"
   ]
  },
  {
   "cell_type": "code",
   "execution_count": null,
   "metadata": {},
   "outputs": [],
   "source": [
    "temp = eval(input(\"entrer la température extérieure :\")\n",
    "print(\"Il fait\",temp, \"degrés.\")"
   ]
  },
  {
   "cell_type": "markdown",
   "metadata": {},
   "source": [
    "## Erreur numéro 3\n",
    "\n",
    "1. Faire fonctionner le programme pour voir l'erreur annoncée par Python\n",
    "2. Corriger l'erreur"
   ]
  },
  {
   "cell_type": "code",
   "execution_count": null,
   "metadata": {},
   "outputs": [],
   "source": [
    "temp = eval(input(\"entrer la température extérieure :\"))\n",
    "print(\"Il fait\",temp, \"degrés.)"
   ]
  },
  {
   "cell_type": "markdown",
   "metadata": {},
   "source": [
    "## Erreur numéro 4\n",
    "\n",
    "1. Faire fonctionner le programme pour voir l'erreur annoncée par Python\n",
    "2. Corriger l'erreur"
   ]
  },
  {
   "cell_type": "code",
   "execution_count": null,
   "metadata": {},
   "outputs": [],
   "source": [
    "temp = eval(input(\"entrer la température extérieure :\"))\n",
    "if temp < 0\n",
    "    print(\"il gèle.\")"
   ]
  },
  {
   "cell_type": "markdown",
   "metadata": {},
   "source": [
    "## Erreur numéro 5\n",
    "\n",
    "1. Faire fonctionner le programme pour voir l'erreur annoncée par Python\n",
    "2. Corriger l'erreur"
   ]
  },
  {
   "cell_type": "code",
   "execution_count": null,
   "metadata": {},
   "outputs": [],
   "source": [
    "température = eval(input(\"entrer la température extérieure en degré Celsius :\"))\n",
    "if température = 0:\n",
    "    print(\"il gèle.\")"
   ]
  },
  {
   "cell_type": "markdown",
   "metadata": {},
   "source": [
    "## Erreur numéro 6\n",
    "\n",
    "1. Faire fonctionner le programme pour voir l'erreur annoncée par Python\n",
    "2. Corriger l'erreur"
   ]
  },
  {
   "cell_type": "code",
   "execution_count": null,
   "metadata": {},
   "outputs": [],
   "source": [
    "température = eval(input(\"entrer la température extérieure en degré Celsius :\"))\n",
    "temp = (temperature -32)/1.8\n",
    "print(\"il fait\",temp,\"degré Fahrenheit\")"
   ]
  },
  {
   "cell_type": "markdown",
   "metadata": {},
   "source": [
    "## Erreur numéro 7\n",
    "\n",
    "1. Faire fonctionner le programme pour voir l'erreur annoncée par Python\n",
    "2. Corriger l'erreur"
   ]
  },
  {
   "cell_type": "code",
   "execution_count": null,
   "metadata": {},
   "outputs": [],
   "source": [
    "température = 17\n",
    "while température !=0:\n",
    "print(température)\n",
    "température = température - 1"
   ]
  },
  {
   "cell_type": "markdown",
   "metadata": {},
   "source": [
    "## Erreur numéro 8\n",
    "\n",
    "1. Faire fonctionner le programme pour voir l'erreur annoncée par Python\n",
    "2. Corriger l'erreur"
   ]
  },
  {
   "cell_type": "code",
   "execution_count": null,
   "metadata": {},
   "outputs": [],
   "source": [
    "température = 17\n",
    "while température !=0:\n",
    "    print(température)\n",
    "     température = température - 1"
   ]
  },
  {
   "cell_type": "markdown",
   "metadata": {},
   "source": [
    "## Erreur numéro 9\n",
    "\n",
    "1. Faire fonctionner le programme pour voir l'erreur annoncée par Python\n",
    "2. Corriger l'erreur"
   ]
  },
  {
   "cell_type": "code",
   "execution_count": null,
   "metadata": {},
   "outputs": [],
   "source": [
    "température = 17\n",
    "while température !=0:\n",
    "    print(température)\n",
    "   température = température - 1"
   ]
  },
  {
   "cell_type": "markdown",
   "metadata": {},
   "source": [
    "## Erreur numéro 10\n",
    "\n",
    "1. Faire fonctionner le programme pour voir l'erreur annoncée par Python\n",
    "2. Corriger l'erreur"
   ]
  },
  {
   "cell_type": "code",
   "execution_count": null,
   "metadata": {},
   "outputs": [],
   "source": [
    "# abs retourne la valeur absolue d'un nombre\n",
    "print(abs(12,3))"
   ]
  },
  {
   "cell_type": "markdown",
   "metadata": {},
   "source": [
    "## Erreur numéro 11\n",
    "\n",
    "1. Faire fonctionner le programme pour voir l'erreur annoncée par Python\n",
    "2. Corriger l'erreur"
   ]
  },
  {
   "cell_type": "code",
   "execution_count": null,
   "metadata": {},
   "outputs": [],
   "source": [
    "température = input(\"entrer la température extérieure en degré Celsius :\")\n",
    "temp = (température -32)/1.8\n",
    "print(\"il fait\",temp,\"degré Fahrenheit\")"
   ]
  },
  {
   "cell_type": "markdown",
   "metadata": {},
   "source": [
    "## Erreur numéro 12\n",
    "\n",
    "1. Faire fonctionner le programme pour voir l'erreur annoncée par Python\n",
    "2. Corriger l'erreur"
   ]
  },
  {
   "cell_type": "code",
   "execution_count": null,
   "metadata": {},
   "outputs": [],
   "source": [
    "pairs = [2,4,6,8,10,12,14,16,18,20]\n",
    "print(pairs[10])"
   ]
  },
  {
   "cell_type": "markdown",
   "metadata": {},
   "source": [
    "## Erreur numéro 13\n",
    "\n",
    "1. Faire fonctionner le programme pour voir l'erreur annoncée par Python\n",
    "2. Corriger l'erreur"
   ]
  },
  {
   "cell_type": "code",
   "execution_count": null,
   "metadata": {},
   "outputs": [],
   "source": [
    "compteur = 1\n",
    "while compteur != 100:\n",
    "    compteur = compteur + 2"
   ]
  },
  {
   "cell_type": "markdown",
   "metadata": {},
   "source": [
    "## Erreur numéro 14\n",
    "\n",
    "1. Faire fonctionner le programme pour voir l'erreur annoncée par Python\n",
    "2. Corriger l'erreur (Attention surprise...)"
   ]
  },
  {
   "cell_type": "code",
   "execution_count": null,
   "metadata": {
    "scrolled": false
   },
   "outputs": [],
   "source": [
    "print=(\"bonjour\")\n",
    "print(\"ça va ?\")"
   ]
  },
  {
   "cell_type": "markdown",
   "metadata": {},
   "source": [
    "## Erreur numéro 15\n",
    "\n",
    "1. Faire fonctionner le programme pour voir l'erreur annoncée par Python\n",
    "2. Y a-t-il vraiment une erreur ?"
   ]
  },
  {
   "cell_type": "code",
   "execution_count": null,
   "metadata": {},
   "outputs": [],
   "source": [
    "\"\"\"\n",
    "et voilà\n",
    "c'est tout !\n",
    "\"\"\"\n",
    "print(\"\"\"pour le moment...\"\"\")\n"
   ]
  }
 ],
 "metadata": {
  "kernelspec": {
   "display_name": "Python 3",
   "language": "python",
   "name": "python3"
  },
  "language_info": {
   "codemirror_mode": {
    "name": "ipython",
    "version": 3
   },
   "file_extension": ".py",
   "mimetype": "text/x-python",
   "name": "python",
   "nbconvert_exporter": "python",
   "pygments_lexer": "ipython3",
   "version": "3.6.5"
  }
 },
 "nbformat": 4,
 "nbformat_minor": 2
}
